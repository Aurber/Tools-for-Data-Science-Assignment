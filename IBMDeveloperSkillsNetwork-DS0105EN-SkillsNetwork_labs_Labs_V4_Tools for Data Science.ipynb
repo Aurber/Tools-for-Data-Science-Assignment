{
  "metadata": {
    "language_info": {
      "codemirror_mode": {
        "name": "python",
        "version": 3
      },
      "file_extension": ".py",
      "mimetype": "text/x-python",
      "name": "python",
      "nbconvert_exporter": "python",
      "pygments_lexer": "ipython3",
      "version": "3.8"
    },
    "kernelspec": {
      "name": "python",
      "display_name": "Python (Pyodide)",
      "language": "python"
    }
  },
  "nbformat_minor": 4,
  "nbformat": 4,
  "cells": [
    {
      "cell_type": "markdown",
      "source": "# Tools for Data Science Assignment (exercise 2)\n",
      "metadata": {}
    },
    {
      "cell_type": "markdown",
      "source": "Introduction (exercise 3)\n\nThere are a total of 25 points possible for this final project.   \n\nYour grade will be based on the following Exercises:\n\nExercise 2 - Create a markdown cell with the title of the notebook. (1 pt)\n\nExercise 3 - Create a markdown cell for an introduction. (1 pt)\n\nExercise 4 - Create a markdown cell to list data science languages. (3 pts)\n\nExercise 5 - Create a markdown cell to list data science libraries. (3 pts)\n\nExercise 6 - Create a markdown cell with a table of Data Science tools. (3 pts)\n\nExercise 7 - Create a markdown cell introducing arithmetic expression examples. (1 pt)\n\nExercise 8 - Create a code cell to multiply and add numbers. (2 pts)\n\nExercise 9 - Create a code cell to convert minutes to hours. (2 pts)\n\nExercise 10 -Insert a markdown cell to list Objectives. (3 pts)\n\nExercise 11 - Create a markdown cell to indicate the Author’s name. (2 pts)\n\nExercise 12 - Share your notebook through GitHub (3 pts)\n\nExercise 13 - Take a screenshot of the first page of the notebook. (1 pt)",
      "metadata": {}
    },
    {
      "cell_type": "markdown",
      "source": "Data Science Languages: (exercise 4)\n1. Python\n2. R\n3. Java\n4. C++\n5. Scala\n6. SQL\n7. Julia",
      "metadata": {}
    },
    {
      "cell_type": "markdown",
      "source": "Data Science Librar: (exercise 5)\n1. Scikit-learn\n2. Pandas\n3. Numpy\n4. Seaborn\n5. Matplotlib\n6. Keras\n7. TensorFlow\n8. PyTorch",
      "metadata": {}
    },
    {
      "cell_type": "markdown",
      "source": "Data Science Tools: (exercise 6)\n1. ApacheSpark\n2. Hadoop\n3. Jupyter Notebook\n4. R Studio\n5. Watson Studio",
      "metadata": {}
    },
    {
      "cell_type": "markdown",
      "source": "### Below are a few examples of evaluating arithmetic expressions in Python (exercise 7)",
      "metadata": {}
    },
    {
      "cell_type": "code",
      "source": "#(exercise 8)\n1+2*3",
      "metadata": {
        "trusted": true
      },
      "execution_count": 1,
      "outputs": [
        {
          "execution_count": 1,
          "output_type": "execute_result",
          "data": {
            "text/plain": "7"
          },
          "metadata": {}
        }
      ]
    },
    {
      "cell_type": "code",
      "source": "#(exercise 9)\nminutes=60\nhours=minutes/60\nprint(hours)",
      "metadata": {
        "trusted": true
      },
      "execution_count": 2,
      "outputs": [
        {
          "name": "stdout",
          "text": "1.0\n",
          "output_type": "stream"
        }
      ]
    },
    {
      "cell_type": "markdown",
      "source": "### Objectives (exercise 10)\n- Data science tools\n- Data science languages\n- Data science libraries\n- Data science APIs",
      "metadata": {}
    },
    {
      "cell_type": "markdown",
      "source": "### Author's Name: Sungju Yu (exercise 11)",
      "metadata": {}
    }
  ]
}